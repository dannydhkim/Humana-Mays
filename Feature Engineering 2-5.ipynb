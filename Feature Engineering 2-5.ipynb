{
 "cells": [
  {
   "cell_type": "code",
   "execution_count": 1,
   "metadata": {},
   "outputs": [],
   "source": [
    "import numpy as np\n",
    "import pandas as pd\n",
    "import matplotlib as plt"
   ]
  },
  {
   "cell_type": "code",
   "execution_count": 2,
   "metadata": {},
   "outputs": [
    {
     "name": "stderr",
     "output_type": "stream",
     "text": [
      "//anaconda3/lib/python3.7/site-packages/IPython/core/interactiveshell.py:3058: DtypeWarning: Columns (8) have mixed types. Specify dtype option on import or set low_memory=False.\n",
      "  interactivity=interactivity, compiler=compiler, result=result)\n"
     ]
    }
   ],
   "source": [
    "humana = pd.read_csv(\"HMAHCC_COMP.csv\")"
   ]
  },
  {
   "cell_type": "code",
   "execution_count": 59,
   "metadata": {},
   "outputs": [],
   "source": [
    "# Extracting History of AUD\n",
    "\n",
    "humana_2_1 = humana[humana.event_descr == ('Fully Paid Claim' or 'Surgery' or 'New provider')]#events relevant to AUD/SUD diagnosis\n",
    "\n",
    "humana_2_1 = humana_2_1.loc[:,['id','event_attr1']]    #selecting diagnosis only, which is attribute #1\n",
    "\n",
    "humana_2_2 = humana[humana.event_descr == ('RX Claim - Rejected')]    #pulling out separately due to different attribute\n",
    "\n",
    "humana_2_2 = humana_2_2.loc[:,['id','event_attr2']]    #selecting diagnosis, which is attribute #2 for rx claim rejected\n"
   ]
  },
  {
   "cell_type": "code",
   "execution_count": 63,
   "metadata": {},
   "outputs": [],
   "source": [
    "# Create a 2-column dataframe for manipulation\n",
    "\n",
    "humana_2_2.rename(columns={\"id\": \"id\", \"event_attr2\": \"event_attr1\"},inplace = True)\n",
    "humana_2 = humana_2_1.append([humana_2_2])\n",
    "humana_3 = pd.DataFrame.copy(humana_2)\n",
    "\n",
    "humana_2.rename(columns={\"id\": \"id\", \"event_attr1\": \"AUD_Incidence\"},inplace = True)\n",
    "humana_2 = humana_2.fillna('NO VALUE')"
   ]
  },
  {
   "cell_type": "code",
   "execution_count": 64,
   "metadata": {},
   "outputs": [],
   "source": [
    "# Scan for alcohol-related records\n",
    "\n",
    "humana_2 = humana_2[humana_2[\"AUD_Incidence\"].str.contains(\"ALCOHOL\")]\n",
    "humana_22 = humana_2[humana_2[\"AUD_Incidence\"].str.contains(\"NONALCOHOLIC\")] # Exclude NASH etc.\n",
    "\n",
    "idx1 = set(humana_2.set_index(['id', \"AUD_Incidence\"]).index)  # This two lines remove duplicate as well\n",
    "idx2 = set(humana_22.set_index(['id', \"AUD_Incidence\"]).index)\n",
    "\n",
    "humana_2 = pd.DataFrame(list(idx1 - idx2), columns=humana_2.columns) "
   ]
  },
  {
   "cell_type": "code",
   "execution_count": 65,
   "metadata": {
    "scrolled": true
   },
   "outputs": [
    {
     "name": "stdout",
     "output_type": "stream",
     "text": [
      "               AUD_Incidence\n",
      "id                          \n",
      "ID1002482139               1\n",
      "ID1008136105               2\n",
      "ID10201747254              3\n",
      "ID10629089274              1\n",
      "ID10748737263              1\n",
      "...                      ...\n",
      "ID99564407113              1\n",
      "ID99770796764              2\n",
      "ID998126948                1\n",
      "ID99819880491              2\n",
      "ID99866353021              1\n",
      "\n",
      "[428 rows x 1 columns]\n"
     ]
    }
   ],
   "source": [
    "# Aggregate records for frequency in the 4-year time period\n",
    "\n",
    "feature_2 = humana_2.groupby('id').count()\n",
    "print(feature_2)"
   ]
  },
  {
   "cell_type": "code",
   "execution_count": 69,
   "metadata": {
    "scrolled": true
   },
   "outputs": [
    {
     "name": "stdout",
     "output_type": "stream",
     "text": [
      "               Disability Status\n",
      "id                              \n",
      "ID20722312303                  1\n",
      "ID24983128404                  1\n",
      "ID29980463176                  1\n",
      "ID40650138370                  1\n",
      "ID6262058860                   1\n",
      "ID79797676242                  1\n",
      "ID83015627732                  1\n",
      "ID94186818364                  1\n"
     ]
    }
   ],
   "source": [
    "# Extracting Disability Status, similar to above\n",
    "\n",
    "# Create a 2-column dataframe for manipulation\n",
    "\n",
    "humana_3.rename(columns={\"id\": \"id\", \"event_attr1\": \"Disability Status\"},inplace = True)\n",
    "humana_3 = humana_3.fillna('NO VALUE')\n",
    "\n",
    "# Scan for disability-related records\n",
    "\n",
    "humana_3 = humana_3[humana_3[\"Disability Status\"].str.contains(\"DISABILITY\")]\n",
    "humana_33 = humana_3[humana_3[\"Disability Status\"].str.contains(\"DISABLE\")]\n",
    "\n",
    "idx1 = set(humana_3.set_index(['id', \"Disability Status\"]).index)  # This two lines remove duplicate as well\n",
    "idx2 = set(humana_33.set_index(['id', \"Disability Status\"]).index)\n",
    "\n",
    "humana_3 = pd.DataFrame(list(idx1 - idx2), columns=humana_3.columns) \n",
    "\n",
    "# Aggregate records for frequency in the 4-year time period\n",
    "\n",
    "feature_3 = humana_3.groupby('id').count()\n",
    "print(feature_3)"
   ]
  },
  {
   "cell_type": "code",
   "execution_count": 102,
   "metadata": {},
   "outputs": [
    {
     "data": {
      "text/plain": [
       "X, KY                  105147\n",
       "LOUISVILLE, KY          43918\n",
       "PHOENIX, AZ             21554\n",
       "0000, AK                 6196\n",
       "CINCINNATI, OH           5844\n",
       "-, AZ                    3899\n",
       "WACO, TX                 3741\n",
       "TUCSON, AZ               2700\n",
       "-, WI                    2087\n",
       "KILEEN, NC               2084\n",
       "SALT LAKE CITY, UT       1666\n",
       "-, KY                     658\n",
       "LOUSIVILLE, KY            596\n",
       "0000, WA                  505\n",
       "00000, AK                 421\n",
       "TEMPE, AZ                 350\n",
       "LOU, KY                   337\n",
       "XXX, KY                   329\n",
       "PUERTO RICO, PR           301\n",
       "9999999999999, WI         298\n",
       "LOUISVILLE, AK            217\n",
       "DE PERE, WI               203\n",
       "TUSCON, AZ                171\n",
       "TWIN FALLS, ID            156\n",
       "999999999999999, WI       145\n",
       "CINCI, OH                 125\n",
       "CARY, NC                  124\n",
       "GREEN BAY, WI              93\n",
       "99999999999999, WI         90\n",
       "9999999999999, TX          66\n",
       "9, KY                      64\n",
       "9, AZ                      59\n",
       "NEW YORK, AK               51\n",
       "SAN JUAN, PR               40\n",
       "GREEN BAY, AK              35\n",
       "SANDY, UT                  35\n",
       "CINCY, OH                  33\n",
       "00000, AL                  25\n",
       "LOUIVILLE, KY              20\n",
       "PHX, AZ                    17\n",
       "SAN ANTONIO, TX            14\n",
       "LOUISIVILLE, KY            10\n",
       "SAN JUAN, AK                8\n",
       "XXXXX, KY                   7\n",
       "LOUISVILL, KY               7\n",
       "LOUISVILLE, WI              7\n",
       "LEXINGTON, KY               3\n",
       "TAMPA, FL                   2\n",
       "LOUSVILLE, KY               1\n",
       "5555555, KY                 1\n",
       "000000, AK                  1\n",
       "Name: event_attr5, dtype: int64"
      ]
     },
     "execution_count": 102,
     "metadata": {},
     "output_type": "execute_result"
    }
   ],
   "source": [
    "# Extracting Beneficiaries’ residence\n",
    "\n",
    "humana_5 = humana[humana.event_descr == ('Inbound Call by Mbr')]#events relevant to Caller's residence\n",
    "\n",
    "humana_5 = humana_5.loc[:,['id','event_attr5']]    #selecting location only, which is attribute #5\n",
    "humana_5['event_attr5'].value_counts()\n",
    "\n",
    "# As shown below, dataset includes patients from KY, AZ, AK, OH, TX, WI, NC, UT, WA, PR, ID, AL, FL"
   ]
  },
  {
   "cell_type": "code",
   "execution_count": 108,
   "metadata": {},
   "outputs": [
    {
     "name": "stdout",
     "output_type": "stream",
     "text": [
      "              Residence\n",
      "id                     \n",
      "ID10010854159        KY\n",
      "ID10013863216        KY\n",
      "ID10024447278        KY\n",
      "ID1002482139         KY\n",
      "ID10036289882        KY\n",
      "...                 ...\n",
      "ID99971049558        KY\n",
      "ID99975648894        KY\n",
      "ID99985278397        KY\n",
      "ID99987501651        KY\n",
      "ID99994197161        KY\n",
      "\n",
      "[11836 rows x 1 columns]\n"
     ]
    },
    {
     "data": {
      "text/plain": [
       " KY           10284\n",
       " AZ             215\n",
       " OH             206\n",
       " AK             161\n",
       " TX              62\n",
       "              ...  \n",
       "[ AZ,  KY]        1\n",
       "[ AZ,  KY]        1\n",
       "[ KY,  PR]        1\n",
       "[ AZ,  KY]        1\n",
       "[ AZ,  KY]        1\n",
       "Name: Residence, Length: 748, dtype: int64"
      ]
     },
     "execution_count": 108,
     "metadata": {},
     "output_type": "execute_result"
    }
   ],
   "source": [
    "# Scan for different states in US\n",
    "\n",
    "pf = humana_5['event_attr5'].str.split(',', expand=True)\n",
    "real_humana_5 = pd.DataFrame.copy(humana_5)\n",
    "real_humana_5['event_attr5'] = pf[1]\n",
    "real_humana_5 = real_humana_5.dropna()\n",
    "\n",
    "feature_5 = real_humana_5.groupby('id')['event_attr5'].agg(pd.Series.mode).to_frame()\n",
    "feature_5.rename(columns={\"id\": \"id\", \"event_attr5\": \"Residence\"},inplace = True)\n",
    "\n",
    "print(feature_5)\n",
    "feature_5['Residence'].value_counts()"
   ]
  }
 ],
 "metadata": {
  "kernelspec": {
   "display_name": "Python 3",
   "language": "python",
   "name": "python3"
  },
  "language_info": {
   "codemirror_mode": {
    "name": "ipython",
    "version": 3
   },
   "file_extension": ".py",
   "mimetype": "text/x-python",
   "name": "python",
   "nbconvert_exporter": "python",
   "pygments_lexer": "ipython3",
   "version": "3.7.4"
  }
 },
 "nbformat": 4,
 "nbformat_minor": 2
}

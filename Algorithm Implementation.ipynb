{
 "cells": [
  {
   "cell_type": "code",
   "execution_count": 142,
   "metadata": {},
   "outputs": [
    {
     "name": "stderr",
     "output_type": "stream",
     "text": [
      "C:\\Users\\dannydhkim\\AppData\\Local\\Continuum\\anaconda3\\lib\\site-packages\\IPython\\core\\interactiveshell.py:3057: DtypeWarning: Columns (8) have mixed types. Specify dtype option on import or set low_memory=False.\n",
      "  interactivity=interactivity, compiler=compiler, result=result)\n"
     ]
    }
   ],
   "source": [
    "#Libraries\n",
    "import pandas as pd\n",
    "import numpy as np\n",
    "import matplotlib.pyplot as plt\n",
    "import time\n",
    "\n",
    "#Dataframe with pandas\n",
    "df = pd.read_csv('../Python/Data/HMAHCC_COMP.CSV')"
   ]
  },
  {
   "cell_type": "code",
   "execution_count": 144,
   "metadata": {},
   "outputs": [],
   "source": [
    "class Patient:\n",
    "    \n",
    "    def __init__(self, patient_ID):\n",
    "        self.patient_ID = patient_ID\n",
    "        self.columns = []\n",
    "        \n",
    "        \n",
    "    def patient_ID(self):\n",
    "        self.dataframe = dataframe\n",
    "        \n",
    "\n",
    "        return ID\n",
    "    \n",
    "    def atrisk (data, ID):\n",
    "    #Qualifying Events start at Day 0, easy to find opioid events via MME\n",
    "        temp = data.loc[data.id == ID]\n",
    "        after180 = temp.loc[(~temp.MME.isnull()) & (temp.Days >= -90)]\n",
    "    #Define series to add\n",
    "        days = after180.loc[:,'Days']\n",
    "        add = after180.loc[:,'PAY_DAY_SUPPLY_CNT']\n",
    "    #generalizable loop\n",
    "        a = 0\n",
    "        i = 0\n",
    "        y = 0\n",
    "        while i in range(len(days)):            \n",
    "            #i is current event\n",
    "            b = i + 1\n",
    "            c = i - 1\n",
    "            if b >= len(days):\n",
    "                return False\n",
    "            currentday= days.iloc[i]\n",
    "            nextday = days.iloc[b]\n",
    "            supply = add.iloc[i]\n",
    "            previoussupply = days.iloc[c] + add.iloc[c]\n",
    "            fromcurrent180 = days.iloc[i] + 180\n",
    "            currentsupply = days.iloc[i] + add.iloc[i]\n",
    "            nextsupply = days.iloc[b] + add.iloc[b]\n",
    "            month6begin = days.iloc[a]\n",
    "            month6end = days.iloc[a] + 180\n",
    "            overlap = 0\n",
    "            over180 = 0 \n",
    "\n",
    "            #Remove days over 180 days, ignore if not in 6 month window\n",
    "            if (currentsupply >= month6end): \n",
    "                over180 = currentsupply - month6end\n",
    "            #Remove overlapping days\n",
    "            if (currentday < month6end) & (currentsupply > nextday):\n",
    "                overlap = currentsupply - nextday\n",
    "            #90% of 6 month period\n",
    "            Value = (supply - overlap - over180)\n",
    "            y += Value\n",
    "            if y >= 162:\n",
    "                return True\n",
    "            else:\n",
    "                i += 1\n",
    "                #a goes to next event when 6 month window fails\n",
    "            if (currentday >= month6end) & (currentday > previoussupply + 90) & (y < 162):\n",
    "                a = i\n",
    "                y = 0\n",
    "            if b >= len(days):\n",
    "                if (nextsupply >= fromcurrent180) & (nextday < month6end): \n",
    "                    over180 = fromcurrent180 - nextsupply\n",
    "                    y += supply - overlap\n",
    "                if y < 162:\n",
    "                    return False"
   ]
  },
  {
   "cell_type": "code",
   "execution_count": 145,
   "metadata": {
    "scrolled": false
   },
   "outputs": [],
   "source": [
    "atrisklist = []\n",
    "ID = df['id'].unique()\n",
    "simple = ID[0:25]\n",
    "for x in simple:\n",
    "    atrisklist.append(Patient.atrisk(df, x))"
   ]
  },
  {
   "cell_type": "code",
   "execution_count": 146,
   "metadata": {},
   "outputs": [
    {
     "name": "stdout",
     "output_type": "stream",
     "text": [
      "[False, True, True, True, False, False, False, True, False, False, False, False, True, True, False, True, False, False, False, False, False, False, True, True, False]\n"
     ]
    }
   ],
   "source": [
    "print(atrisklist)"
   ]
  }
 ],
 "metadata": {
  "kernelspec": {
   "display_name": "Python 3",
   "language": "python",
   "name": "python3"
  },
  "language_info": {
   "codemirror_mode": {
    "name": "ipython",
    "version": 3
   },
   "file_extension": ".py",
   "mimetype": "text/x-python",
   "name": "python",
   "nbconvert_exporter": "python",
   "pygments_lexer": "ipython3",
   "version": "3.7.5"
  }
 },
 "nbformat": 4,
 "nbformat_minor": 2
}

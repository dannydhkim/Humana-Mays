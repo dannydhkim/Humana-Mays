{
 "cells": [
  {
   "cell_type": "code",
   "execution_count": 5,
   "metadata": {},
   "outputs": [],
   "source": [
    "#Libraries\n",
    "import pandas as pd\n",
    "import numpy as np\n",
    "import matplotlib.pyplot as plt\n",
    "\n",
    "#Dataframe with pandas\n",
    "df = pd.read_csv('../Python/Data/One Patient.CSV')"
   ]
  },
  {
   "cell_type": "code",
   "execution_count": null,
   "metadata": {
    "scrolled": true
   },
   "outputs": [],
   "source": [
    "df.head()"
   ]
  },
  {
   "cell_type": "code",
   "execution_count": null,
   "metadata": {
    "scrolled": false
   },
   "outputs": [],
   "source": [
    "df.drop(df.columns[[0,19]], axis = 1 )"
   ]
  },
  {
   "cell_type": "code",
   "execution_count": 8,
   "metadata": {},
   "outputs": [
    {
     "name": "stdout",
     "output_type": "stream",
     "text": [
      "193      0\n",
      "194      0\n",
      "326    706\n",
      "329    706\n",
      "Name: Days, dtype: int64 193    5.0\n",
      "194    5.0\n",
      "326    5.0\n",
      "329    5.0\n",
      "Name: PAY_DAY_SUPPLY_CNT, dtype: float64\n"
     ]
    }
   ],
   "source": [
    "#Qualifying Events start at Day 0, easy to find opioid events via MME\n",
    "after180 = df[df['MME'].notnull() & (df['Days']>=0)]\n",
    "#Define series to add\n",
    "days = after180.loc[:,'Days']\n",
    "add = after180.loc[:,'PAY_DAY_SUPPLY_CNT']\n",
    "print (days, add)"
   ]
  },
  {
   "cell_type": "code",
   "execution_count": 60,
   "metadata": {},
   "outputs": [
    {
     "name": "stdout",
     "output_type": "stream",
     "text": [
      "6-month window: 0 - 180\n",
      "6month window event:0\n",
      "Currently it is event:0 Day:0 Supply Count: 5.0\n",
      "over180: 0\n",
      "overlap: 5.0\n",
      "Value: 0.0\n",
      "Going to event: 1\n",
      "6-month window: 0 - 180\n",
      "6month window event:0\n",
      "Currently it is event:1 Day:0 Supply Count: 5.0\n",
      "over180: 0\n",
      "overlap: 0\n",
      "Value: 5.0\n",
      "Going to event: 2\n",
      "Going to next 6-month window: 0 - 180\n",
      "With event: 1 as beginning of 6 month window\n",
      "It was event: 2\n",
      "And now we're going back to event: 1\n",
      "6-month window: 0 - 180\n",
      "6month window event:1\n",
      "Currently it is event:1 Day:0 Supply Count: 5.0\n",
      "over180: 0\n",
      "overlap: 0\n",
      "Value: 5.0\n",
      "Going to event: 2\n",
      "Going to next 6-month window: 0 - 180\n",
      "With event: 2 as beginning of 6 month window\n",
      "It was event: 2\n",
      "And now we're going back to event: 2\n",
      "6-month window: 706 - 886\n",
      "6month window event:2\n",
      "Currently it is event:2 Day:706 Supply Count: 5.0\n",
      "over180: 0\n",
      "overlap: 5.0\n",
      "Value: 0.0\n",
      "Going to event: 3\n",
      "[False]\n"
     ]
    }
   ],
   "source": [
    "#Making list\n",
    "atrisk = []\n",
    "#a is a pointer to the first date of 6 month period\n",
    "a = 0\n",
    "i = 0\n",
    "#generalizable loop\n",
    "while i in range(len(days)):\n",
    "#i is current event\n",
    "    currentday= days.iloc[i]\n",
    "    nextday = days.iloc[i+1]\n",
    "    fromcurrent180 = days.iloc[i] + 180\n",
    "    currentsupply = days.iloc[i] + add.iloc[i]\n",
    "    nextsupply = days.iloc[i+1] + add.iloc[i+1]\n",
    "    month6begin = days.iloc[a]\n",
    "    month6end = days.iloc[a] + 180\n",
    "    begin= str(days.iloc[a])\n",
    "    end= str(days.iloc[a]+180)\n",
    "    overlap = 0\n",
    "    over180 = 0 \n",
    "    print('6-month window: ' + begin + ' - ' + end)\n",
    "    print('6month window event:' + str(a))\n",
    "    print('Currently it is event:' + str(i) + ' Day:' + str(days.iloc[i]) + ' Supply Count: ' + str(add.iloc[i]))\n",
    "    \n",
    "#Remove days over 180 days, ignore if not in 6 month window\n",
    "    if (nextsupply >= fromcurrent180) & (nextday < month6end): \n",
    "        over180 = fromcurrent180 - nextsupply\n",
    "#Remove overlapping days\n",
    "    print('over180: ' + str(over180))\n",
    "    if (currentday < month6end) & (currentsupply > days.iloc[i+1]):\n",
    "        overlap = currentsupply - nextday\n",
    "    print('overlap: ' + str(overlap))\n",
    "#90% of 6 month period\n",
    "    Value = add.iloc[i] - overlap - over180\n",
    "    print('Value: ' + str(Value))\n",
    "    if Value >= 162:\n",
    "        atrisk.append(True)\n",
    "        break\n",
    "    else:\n",
    "        i += 1\n",
    "        print('Going to event: ' + str(i))\n",
    "#a goes to next event when 6 month window fails\n",
    "    if (days.iloc[i] >= month6end) & (Value < 162):\n",
    "        a += 1\n",
    "        print('Going to next 6-month window: ' + begin + ' - ' + end)\n",
    "        print('With event: ' + str(a) + ' as beginning of 6 month window')\n",
    "        print('It was event: ' + str(i)) \n",
    "        i = a\n",
    "        print(\"And now we're going back to event: \" + str(i))\n",
    "        Value = 0\n",
    "    if i+1 >= len(days):\n",
    "        if (nextsupply >= fromcurrent180) & (nextday < month6end): \n",
    "            over180 = fromcurrent180 - nextsupply\n",
    "            Value += add.iloc[i] - overlap\n",
    "        if Value < 162:\n",
    "            atrisk.append(False)\n",
    "            break\n",
    "print(atrisk)\n",
    "    "
   ]
  },
  {
   "cell_type": "code",
   "execution_count": null,
   "metadata": {},
   "outputs": [],
   "source": []
  }
 ],
 "metadata": {
  "kernelspec": {
   "display_name": "Python 3",
   "language": "python",
   "name": "python3"
  },
  "language_info": {
   "codemirror_mode": {
    "name": "ipython",
    "version": 3
   },
   "file_extension": ".py",
   "mimetype": "text/x-python",
   "name": "python",
   "nbconvert_exporter": "python",
   "pygments_lexer": "ipython3",
   "version": "3.7.5"
  }
 },
 "nbformat": 4,
 "nbformat_minor": 2
}
